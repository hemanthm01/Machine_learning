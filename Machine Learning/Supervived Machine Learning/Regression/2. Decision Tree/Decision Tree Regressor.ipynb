{
 "cells": [
  {
   "cell_type": "markdown",
   "id": "9c0d3864",
   "metadata": {},
   "source": [
    "# </font> <font color = #4854E8> DECISION TREE </font>"
   ]
  },
  {
   "cell_type": "markdown",
   "id": "7e936aa9",
   "metadata": {},
   "source": [
    "Decision tree builds regression or classification models in the form of a tree structure. It breaks down a dataset into smaller and smaller subsets while at the same time an associated decision tree is incrementally developed. The final result is a tree with decision nodes and leaf nodes"
   ]
  },
  {
   "cell_type": "markdown",
   "id": "22ca04ad",
   "metadata": {},
   "source": [
    "<b>Data Information: </b>\n",
    "    \n",
    "   <b>New York City - East River Bicycle Crossings:</b> The New York City Department of Transportation collects daily data about the number of bicycles going over bridges in New York City. This data is used to measure bike utilization as a part of transportation planning. This dataset is a daily record of the number of bicycles crossing into or out of Manhattan via one of the East River bridges (that is, excluding Bronx thruways and the non-bikeable Hudson River tunnels) for a stretch of 9 months. <br>\n",
    "\n",
    "   <b> Content </b> <br>\n",
    "A count of the number of bicycles on each of the bridges in question is provided on a day-by-day basis, along with information on maximum and minimum temperature and precipitation.\n",
    "\n",
    "   <b> Link: </b> <br>\n",
    "https://data.cityofnewyork.us/Transportation/Bicycle-Counts-for-East-River-Bridges-Historical-/gua4-p9wg"
   ]
  },
  {
   "cell_type": "markdown",
   "id": "f41fd2be",
   "metadata": {},
   "source": [
    "<b> Importing the Libaries and dataset </b>"
   ]
  },
  {
   "cell_type": "code",
   "execution_count": 1,
   "id": "e2d80af5",
   "metadata": {},
   "outputs": [],
   "source": [
    "import warnings\n",
    "import numpy as np\n",
    "import pandas as pd\n",
    "import seaborn as sns\n",
    "import matplotlib.pyplot as plt\n",
    "warnings.filterwarnings(\"ignore\")"
   ]
  },
  {
   "cell_type": "code",
   "execution_count": 2,
   "id": "612451ae",
   "metadata": {},
   "outputs": [],
   "source": [
    "df = pd.read_csv('nyc-east-river-bicycle-counts.csv')"
   ]
  },
  {
   "cell_type": "code",
   "execution_count": 3,
   "id": "515aec88",
   "metadata": {},
   "outputs": [
    {
     "data": {
      "text/html": [
       "<div>\n",
       "<style scoped>\n",
       "    .dataframe tbody tr th:only-of-type {\n",
       "        vertical-align: middle;\n",
       "    }\n",
       "\n",
       "    .dataframe tbody tr th {\n",
       "        vertical-align: top;\n",
       "    }\n",
       "\n",
       "    .dataframe thead th {\n",
       "        text-align: right;\n",
       "    }\n",
       "</style>\n",
       "<table border=\"1\" class=\"dataframe\">\n",
       "  <thead>\n",
       "    <tr style=\"text-align: right;\">\n",
       "      <th></th>\n",
       "      <th>Unnamed: 0</th>\n",
       "      <th>Date</th>\n",
       "      <th>Day</th>\n",
       "      <th>High Temp (°F)</th>\n",
       "      <th>Low Temp (°F)</th>\n",
       "      <th>Precipitation</th>\n",
       "      <th>Brooklyn Bridge</th>\n",
       "      <th>Manhattan Bridge</th>\n",
       "      <th>Williamsburg Bridge</th>\n",
       "      <th>Queensboro Bridge</th>\n",
       "      <th>Total</th>\n",
       "    </tr>\n",
       "  </thead>\n",
       "  <tbody>\n",
       "    <tr>\n",
       "      <th>0</th>\n",
       "      <td>0</td>\n",
       "      <td>4/1/2016 0:00</td>\n",
       "      <td>4/1/2016 0:00</td>\n",
       "      <td>78.1</td>\n",
       "      <td>66.0</td>\n",
       "      <td>0.01</td>\n",
       "      <td>1704</td>\n",
       "      <td>3126</td>\n",
       "      <td>4115</td>\n",
       "      <td>2552</td>\n",
       "      <td>11497</td>\n",
       "    </tr>\n",
       "    <tr>\n",
       "      <th>1</th>\n",
       "      <td>1</td>\n",
       "      <td>4/2/2016 0:00</td>\n",
       "      <td>4/2/2016 0:00</td>\n",
       "      <td>55.0</td>\n",
       "      <td>48.9</td>\n",
       "      <td>0.15</td>\n",
       "      <td>827</td>\n",
       "      <td>1646</td>\n",
       "      <td>2565</td>\n",
       "      <td>1884</td>\n",
       "      <td>6922</td>\n",
       "    </tr>\n",
       "    <tr>\n",
       "      <th>2</th>\n",
       "      <td>2</td>\n",
       "      <td>4/3/2016 0:00</td>\n",
       "      <td>4/3/2016 0:00</td>\n",
       "      <td>39.9</td>\n",
       "      <td>34.0</td>\n",
       "      <td>0.09</td>\n",
       "      <td>526</td>\n",
       "      <td>1232</td>\n",
       "      <td>1695</td>\n",
       "      <td>1306</td>\n",
       "      <td>4759</td>\n",
       "    </tr>\n",
       "    <tr>\n",
       "      <th>3</th>\n",
       "      <td>3</td>\n",
       "      <td>4/4/2016 0:00</td>\n",
       "      <td>4/4/2016 0:00</td>\n",
       "      <td>44.1</td>\n",
       "      <td>33.1</td>\n",
       "      <td>0.47</td>\n",
       "      <td>521</td>\n",
       "      <td>1067</td>\n",
       "      <td>1440</td>\n",
       "      <td>1307</td>\n",
       "      <td>4335</td>\n",
       "    </tr>\n",
       "    <tr>\n",
       "      <th>4</th>\n",
       "      <td>4</td>\n",
       "      <td>4/5/2016 0:00</td>\n",
       "      <td>4/5/2016 0:00</td>\n",
       "      <td>42.1</td>\n",
       "      <td>26.1</td>\n",
       "      <td>0.00</td>\n",
       "      <td>1416</td>\n",
       "      <td>2617</td>\n",
       "      <td>3081</td>\n",
       "      <td>2357</td>\n",
       "      <td>9471</td>\n",
       "    </tr>\n",
       "  </tbody>\n",
       "</table>\n",
       "</div>"
      ],
      "text/plain": [
       "   Unnamed: 0           Date            Day  High Temp (°F)  Low Temp (°F)  \\\n",
       "0           0  4/1/2016 0:00  4/1/2016 0:00            78.1           66.0   \n",
       "1           1  4/2/2016 0:00  4/2/2016 0:00            55.0           48.9   \n",
       "2           2  4/3/2016 0:00  4/3/2016 0:00            39.9           34.0   \n",
       "3           3  4/4/2016 0:00  4/4/2016 0:00            44.1           33.1   \n",
       "4           4  4/5/2016 0:00  4/5/2016 0:00            42.1           26.1   \n",
       "\n",
       "   Precipitation  Brooklyn Bridge  Manhattan Bridge  Williamsburg Bridge  \\\n",
       "0           0.01             1704              3126                 4115   \n",
       "1           0.15              827              1646                 2565   \n",
       "2           0.09              526              1232                 1695   \n",
       "3           0.47              521              1067                 1440   \n",
       "4           0.00             1416              2617                 3081   \n",
       "\n",
       "   Queensboro Bridge  Total  \n",
       "0               2552  11497  \n",
       "1               1884   6922  \n",
       "2               1306   4759  \n",
       "3               1307   4335  \n",
       "4               2357   9471  "
      ]
     },
     "execution_count": 3,
     "metadata": {},
     "output_type": "execute_result"
    }
   ],
   "source": [
    "df.head()"
   ]
  },
  {
   "cell_type": "code",
   "execution_count": 4,
   "id": "8fd536c2",
   "metadata": {},
   "outputs": [
    {
     "name": "stdout",
     "output_type": "stream",
     "text": [
      "<class 'pandas.core.frame.DataFrame'>\n",
      "RangeIndex: 210 entries, 0 to 209\n",
      "Data columns (total 11 columns):\n",
      " #   Column               Non-Null Count  Dtype  \n",
      "---  ------               --------------  -----  \n",
      " 0   Unnamed: 0           210 non-null    int64  \n",
      " 1   Date                 210 non-null    object \n",
      " 2   Day                  210 non-null    object \n",
      " 3   High Temp (°F)       210 non-null    float64\n",
      " 4   Low Temp (°F)        210 non-null    float64\n",
      " 5   Precipitation        210 non-null    float64\n",
      " 6   Brooklyn Bridge      210 non-null    int64  \n",
      " 7   Manhattan Bridge     210 non-null    int64  \n",
      " 8   Williamsburg Bridge  210 non-null    int64  \n",
      " 9   Queensboro Bridge    210 non-null    int64  \n",
      " 10  Total                210 non-null    int64  \n",
      "dtypes: float64(3), int64(6), object(2)\n",
      "memory usage: 18.2+ KB\n"
     ]
    }
   ],
   "source": [
    "df.info()"
   ]
  },
  {
   "cell_type": "code",
   "execution_count": 5,
   "id": "8918310e",
   "metadata": {},
   "outputs": [
    {
     "data": {
      "text/html": [
       "<div>\n",
       "<style scoped>\n",
       "    .dataframe tbody tr th:only-of-type {\n",
       "        vertical-align: middle;\n",
       "    }\n",
       "\n",
       "    .dataframe tbody tr th {\n",
       "        vertical-align: top;\n",
       "    }\n",
       "\n",
       "    .dataframe thead th {\n",
       "        text-align: right;\n",
       "    }\n",
       "</style>\n",
       "<table border=\"1\" class=\"dataframe\">\n",
       "  <thead>\n",
       "    <tr style=\"text-align: right;\">\n",
       "      <th></th>\n",
       "      <th>Unnamed: 0</th>\n",
       "      <th>High Temp (°F)</th>\n",
       "      <th>Low Temp (°F)</th>\n",
       "      <th>Precipitation</th>\n",
       "      <th>Brooklyn Bridge</th>\n",
       "      <th>Manhattan Bridge</th>\n",
       "      <th>Williamsburg Bridge</th>\n",
       "      <th>Queensboro Bridge</th>\n",
       "      <th>Total</th>\n",
       "    </tr>\n",
       "  </thead>\n",
       "  <tbody>\n",
       "    <tr>\n",
       "      <th>count</th>\n",
       "      <td>210.000000</td>\n",
       "      <td>210.000000</td>\n",
       "      <td>210.000000</td>\n",
       "      <td>210.000000</td>\n",
       "      <td>210.000000</td>\n",
       "      <td>210.000000</td>\n",
       "      <td>210.000000</td>\n",
       "      <td>210.000000</td>\n",
       "      <td>210.000000</td>\n",
       "    </tr>\n",
       "    <tr>\n",
       "      <th>mean</th>\n",
       "      <td>104.500000</td>\n",
       "      <td>60.580000</td>\n",
       "      <td>46.413333</td>\n",
       "      <td>0.052333</td>\n",
       "      <td>2269.633333</td>\n",
       "      <td>4049.533333</td>\n",
       "      <td>4862.466667</td>\n",
       "      <td>3352.866667</td>\n",
       "      <td>14534.500000</td>\n",
       "    </tr>\n",
       "    <tr>\n",
       "      <th>std</th>\n",
       "      <td>60.765944</td>\n",
       "      <td>11.183223</td>\n",
       "      <td>9.522796</td>\n",
       "      <td>0.102148</td>\n",
       "      <td>981.237786</td>\n",
       "      <td>1704.731356</td>\n",
       "      <td>1814.039499</td>\n",
       "      <td>1099.254419</td>\n",
       "      <td>5569.173496</td>\n",
       "    </tr>\n",
       "    <tr>\n",
       "      <th>min</th>\n",
       "      <td>0.000000</td>\n",
       "      <td>39.900000</td>\n",
       "      <td>26.100000</td>\n",
       "      <td>0.000000</td>\n",
       "      <td>504.000000</td>\n",
       "      <td>997.000000</td>\n",
       "      <td>1440.000000</td>\n",
       "      <td>1306.000000</td>\n",
       "      <td>4335.000000</td>\n",
       "    </tr>\n",
       "    <tr>\n",
       "      <th>25%</th>\n",
       "      <td>52.250000</td>\n",
       "      <td>55.000000</td>\n",
       "      <td>44.100000</td>\n",
       "      <td>0.000000</td>\n",
       "      <td>1447.000000</td>\n",
       "      <td>2617.000000</td>\n",
       "      <td>3282.000000</td>\n",
       "      <td>2457.000000</td>\n",
       "      <td>9596.000000</td>\n",
       "    </tr>\n",
       "    <tr>\n",
       "      <th>50%</th>\n",
       "      <td>104.500000</td>\n",
       "      <td>62.100000</td>\n",
       "      <td>46.900000</td>\n",
       "      <td>0.000000</td>\n",
       "      <td>2379.500000</td>\n",
       "      <td>4165.000000</td>\n",
       "      <td>5194.000000</td>\n",
       "      <td>3477.000000</td>\n",
       "      <td>15292.500000</td>\n",
       "    </tr>\n",
       "    <tr>\n",
       "      <th>75%</th>\n",
       "      <td>156.750000</td>\n",
       "      <td>68.000000</td>\n",
       "      <td>50.000000</td>\n",
       "      <td>0.090000</td>\n",
       "      <td>3147.000000</td>\n",
       "      <td>5309.000000</td>\n",
       "      <td>6030.000000</td>\n",
       "      <td>4192.000000</td>\n",
       "      <td>18315.000000</td>\n",
       "    </tr>\n",
       "    <tr>\n",
       "      <th>max</th>\n",
       "      <td>209.000000</td>\n",
       "      <td>81.000000</td>\n",
       "      <td>66.000000</td>\n",
       "      <td>0.470000</td>\n",
       "      <td>3871.000000</td>\n",
       "      <td>6951.000000</td>\n",
       "      <td>7834.000000</td>\n",
       "      <td>5032.000000</td>\n",
       "      <td>23318.000000</td>\n",
       "    </tr>\n",
       "  </tbody>\n",
       "</table>\n",
       "</div>"
      ],
      "text/plain": [
       "       Unnamed: 0  High Temp (°F)  Low Temp (°F)  Precipitation  \\\n",
       "count  210.000000      210.000000     210.000000     210.000000   \n",
       "mean   104.500000       60.580000      46.413333       0.052333   \n",
       "std     60.765944       11.183223       9.522796       0.102148   \n",
       "min      0.000000       39.900000      26.100000       0.000000   \n",
       "25%     52.250000       55.000000      44.100000       0.000000   \n",
       "50%    104.500000       62.100000      46.900000       0.000000   \n",
       "75%    156.750000       68.000000      50.000000       0.090000   \n",
       "max    209.000000       81.000000      66.000000       0.470000   \n",
       "\n",
       "       Brooklyn Bridge  Manhattan Bridge  Williamsburg Bridge  \\\n",
       "count       210.000000        210.000000           210.000000   \n",
       "mean       2269.633333       4049.533333          4862.466667   \n",
       "std         981.237786       1704.731356          1814.039499   \n",
       "min         504.000000        997.000000          1440.000000   \n",
       "25%        1447.000000       2617.000000          3282.000000   \n",
       "50%        2379.500000       4165.000000          5194.000000   \n",
       "75%        3147.000000       5309.000000          6030.000000   \n",
       "max        3871.000000       6951.000000          7834.000000   \n",
       "\n",
       "       Queensboro Bridge         Total  \n",
       "count         210.000000    210.000000  \n",
       "mean         3352.866667  14534.500000  \n",
       "std          1099.254419   5569.173496  \n",
       "min          1306.000000   4335.000000  \n",
       "25%          2457.000000   9596.000000  \n",
       "50%          3477.000000  15292.500000  \n",
       "75%          4192.000000  18315.000000  \n",
       "max          5032.000000  23318.000000  "
      ]
     },
     "execution_count": 5,
     "metadata": {},
     "output_type": "execute_result"
    }
   ],
   "source": [
    "df.describe()"
   ]
  },
  {
   "cell_type": "code",
   "execution_count": 6,
   "id": "1dc9cda5",
   "metadata": {},
   "outputs": [
    {
     "name": "stdout",
     "output_type": "stream",
     "text": [
      "The number of rows    :210\n",
      "The number of columns :11\n"
     ]
    }
   ],
   "source": [
    "print(f'The number of rows    :{df.shape[0]}')\n",
    "print(f'The number of columns :{df.shape[1]}')"
   ]
  },
  {
   "cell_type": "code",
   "execution_count": 7,
   "id": "6e98b408",
   "metadata": {},
   "outputs": [
    {
     "data": {
      "image/png": "[encoded data removed]",
      "text/plain": [
       "<Figure size 1296x720 with 9 Axes>"
      ]
     },
     "metadata": {
      "needs_background": "light"
     },
     "output_type": "display_data"
    }
   ],
   "source": [
    "df.iloc[:,3:11].hist(figsize=(18,10))\n",
    "plt.show()"
   ]
  },
  {
   "cell_type": "code",
   "execution_count": 8,
   "id": "151841a2",
   "metadata": {},
   "outputs": [
    {
     "data": {
      "image/png": "[encoded data removed]",
      "text/plain": [
       "<Figure size 864x576 with 2 Axes>"
      ]
     },
     "metadata": {},
     "output_type": "display_data"
    }
   ],
   "source": [
    "plt.style.use('fivethirtyeight')\n",
    "plt.figure(figsize = (12,8))\n",
    "\n",
    "annot_kws={'fontsize':10,                      # To change the size of the font\n",
    "           'fontstyle':'italic',               # To change the style of font \n",
    "           'fontfamily': 'serif',              # To change the family of font \n",
    "           'alpha':1 }                         # To change the transparency of the text  \n",
    "\n",
    "\n",
    "cbar_kws = {\"shrink\":1,                        # To change the size of the color bar\n",
    "            'extend':'min',                    # To change the end of the color bar like pointed\n",
    "            'extendfrac':0.1,                  # To adjust the extension of the color bar\n",
    "            \"drawedges\":True,                  # To draw lines (edges) on the color bar\n",
    "           }\n",
    "\n",
    "matrix = np.triu(df.corr())\n",
    "\n",
    "ax = sns.heatmap(df.corr(), mask = matrix, cmap = 'rainbow', annot = True, linewidth = 1.5 ,annot_kws= annot_kws, cbar_kws=cbar_kws)\n",
    "plt.title('Correlation Matrix', fontsize = 20)\n",
    "sns.set(font_scale = 1.2)\n",
    "\n",
    "plt.tight_layout()"
   ]
  },
  {
   "cell_type": "markdown",
   "id": "7e67f4a5",
   "metadata": {},
   "source": [
    "<b> Data Preprocessing </b>"
   ]
  },
  {
   "cell_type": "code",
   "execution_count": 9,
   "id": "3e4cdc71",
   "metadata": {},
   "outputs": [
    {
     "data": {
      "text/plain": [
       "Unnamed: 0             0\n",
       "Date                   0\n",
       "Day                    0\n",
       "High Temp (°F)         0\n",
       "Low Temp (°F)          0\n",
       "Precipitation          0\n",
       "Brooklyn Bridge        0\n",
       "Manhattan Bridge       0\n",
       "Williamsburg Bridge    0\n",
       "Queensboro Bridge      0\n",
       "Total                  0\n",
       "dtype: int64"
      ]
     },
     "execution_count": 9,
     "metadata": {},
     "output_type": "execute_result"
    }
   ],
   "source": [
    "df.isna().sum()"
   ]
  },
  {
   "cell_type": "markdown",
   "id": "072b294e",
   "metadata": {},
   "source": [
    "Removing the unwanted columns"
   ]
  },
  {
   "cell_type": "code",
   "execution_count": 10,
   "id": "de107b40",
   "metadata": {},
   "outputs": [
    {
     "data": {
      "text/html": [
       "<div>\n",
       "<style scoped>\n",
       "    .dataframe tbody tr th:only-of-type {\n",
       "        vertical-align: middle;\n",
       "    }\n",
       "\n",
       "    .dataframe tbody tr th {\n",
       "        vertical-align: top;\n",
       "    }\n",
       "\n",
       "    .dataframe thead th {\n",
       "        text-align: right;\n",
       "    }\n",
       "</style>\n",
       "<table border=\"1\" class=\"dataframe\">\n",
       "  <thead>\n",
       "    <tr style=\"text-align: right;\">\n",
       "      <th></th>\n",
       "      <th>High Temp (°F)</th>\n",
       "      <th>Low Temp (°F)</th>\n",
       "      <th>Precipitation</th>\n",
       "      <th>Brooklyn Bridge</th>\n",
       "      <th>Manhattan Bridge</th>\n",
       "      <th>Williamsburg Bridge</th>\n",
       "      <th>Queensboro Bridge</th>\n",
       "      <th>Total</th>\n",
       "    </tr>\n",
       "  </thead>\n",
       "  <tbody>\n",
       "    <tr>\n",
       "      <th>0</th>\n",
       "      <td>78.1</td>\n",
       "      <td>66.0</td>\n",
       "      <td>0.01</td>\n",
       "      <td>1704</td>\n",
       "      <td>3126</td>\n",
       "      <td>4115</td>\n",
       "      <td>2552</td>\n",
       "      <td>11497</td>\n",
       "    </tr>\n",
       "    <tr>\n",
       "      <th>1</th>\n",
       "      <td>55.0</td>\n",
       "      <td>48.9</td>\n",
       "      <td>0.15</td>\n",
       "      <td>827</td>\n",
       "      <td>1646</td>\n",
       "      <td>2565</td>\n",
       "      <td>1884</td>\n",
       "      <td>6922</td>\n",
       "    </tr>\n",
       "    <tr>\n",
       "      <th>2</th>\n",
       "      <td>39.9</td>\n",
       "      <td>34.0</td>\n",
       "      <td>0.09</td>\n",
       "      <td>526</td>\n",
       "      <td>1232</td>\n",
       "      <td>1695</td>\n",
       "      <td>1306</td>\n",
       "      <td>4759</td>\n",
       "    </tr>\n",
       "    <tr>\n",
       "      <th>3</th>\n",
       "      <td>44.1</td>\n",
       "      <td>33.1</td>\n",
       "      <td>0.47</td>\n",
       "      <td>521</td>\n",
       "      <td>1067</td>\n",
       "      <td>1440</td>\n",
       "      <td>1307</td>\n",
       "      <td>4335</td>\n",
       "    </tr>\n",
       "    <tr>\n",
       "      <th>4</th>\n",
       "      <td>42.1</td>\n",
       "      <td>26.1</td>\n",
       "      <td>0.00</td>\n",
       "      <td>1416</td>\n",
       "      <td>2617</td>\n",
       "      <td>3081</td>\n",
       "      <td>2357</td>\n",
       "      <td>9471</td>\n",
       "    </tr>\n",
       "  </tbody>\n",
       "</table>\n",
       "</div>"
      ],
      "text/plain": [
       "   High Temp (°F)  Low Temp (°F)  Precipitation  Brooklyn Bridge  \\\n",
       "0            78.1           66.0           0.01             1704   \n",
       "1            55.0           48.9           0.15              827   \n",
       "2            39.9           34.0           0.09              526   \n",
       "3            44.1           33.1           0.47              521   \n",
       "4            42.1           26.1           0.00             1416   \n",
       "\n",
       "   Manhattan Bridge  Williamsburg Bridge  Queensboro Bridge  Total  \n",
       "0              3126                 4115               2552  11497  \n",
       "1              1646                 2565               1884   6922  \n",
       "2              1232                 1695               1306   4759  \n",
       "3              1067                 1440               1307   4335  \n",
       "4              2617                 3081               2357   9471  "
      ]
     },
     "execution_count": 10,
     "metadata": {},
     "output_type": "execute_result"
    }
   ],
   "source": [
    "df = df.drop(['Unnamed: 0', 'Day', 'Date'],axis=1)\n",
    "df.head()"
   ]
  },
  {
   "cell_type": "code",
   "execution_count": 11,
   "id": "ea7d0e30",
   "metadata": {},
   "outputs": [],
   "source": [
    "X = df.iloc[:, :-1]\n",
    "Y = df.iloc[:, -1]"
   ]
  },
  {
   "cell_type": "code",
   "execution_count": 12,
   "id": "45ff0bdf",
   "metadata": {},
   "outputs": [
    {
     "data": {
      "text/html": [
       "<div>\n",
       "<style scoped>\n",
       "    .dataframe tbody tr th:only-of-type {\n",
       "        vertical-align: middle;\n",
       "    }\n",
       "\n",
       "    .dataframe tbody tr th {\n",
       "        vertical-align: top;\n",
       "    }\n",
       "\n",
       "    .dataframe thead th {\n",
       "        text-align: right;\n",
       "    }\n",
       "</style>\n",
       "<table border=\"1\" class=\"dataframe\">\n",
       "  <thead>\n",
       "    <tr style=\"text-align: right;\">\n",
       "      <th></th>\n",
       "      <th>High Temp (°F)</th>\n",
       "      <th>Low Temp (°F)</th>\n",
       "      <th>Precipitation</th>\n",
       "      <th>Brooklyn Bridge</th>\n",
       "      <th>Manhattan Bridge</th>\n",
       "      <th>Williamsburg Bridge</th>\n",
       "      <th>Queensboro Bridge</th>\n",
       "    </tr>\n",
       "  </thead>\n",
       "  <tbody>\n",
       "    <tr>\n",
       "      <th>0</th>\n",
       "      <td>78.1</td>\n",
       "      <td>66.0</td>\n",
       "      <td>0.01</td>\n",
       "      <td>1704</td>\n",
       "      <td>3126</td>\n",
       "      <td>4115</td>\n",
       "      <td>2552</td>\n",
       "    </tr>\n",
       "    <tr>\n",
       "      <th>1</th>\n",
       "      <td>55.0</td>\n",
       "      <td>48.9</td>\n",
       "      <td>0.15</td>\n",
       "      <td>827</td>\n",
       "      <td>1646</td>\n",
       "      <td>2565</td>\n",
       "      <td>1884</td>\n",
       "    </tr>\n",
       "    <tr>\n",
       "      <th>2</th>\n",
       "      <td>39.9</td>\n",
       "      <td>34.0</td>\n",
       "      <td>0.09</td>\n",
       "      <td>526</td>\n",
       "      <td>1232</td>\n",
       "      <td>1695</td>\n",
       "      <td>1306</td>\n",
       "    </tr>\n",
       "    <tr>\n",
       "      <th>3</th>\n",
       "      <td>44.1</td>\n",
       "      <td>33.1</td>\n",
       "      <td>0.47</td>\n",
       "      <td>521</td>\n",
       "      <td>1067</td>\n",
       "      <td>1440</td>\n",
       "      <td>1307</td>\n",
       "    </tr>\n",
       "    <tr>\n",
       "      <th>4</th>\n",
       "      <td>42.1</td>\n",
       "      <td>26.1</td>\n",
       "      <td>0.00</td>\n",
       "      <td>1416</td>\n",
       "      <td>2617</td>\n",
       "      <td>3081</td>\n",
       "      <td>2357</td>\n",
       "    </tr>\n",
       "  </tbody>\n",
       "</table>\n",
       "</div>"
      ],
      "text/plain": [
       "   High Temp (°F)  Low Temp (°F)  Precipitation  Brooklyn Bridge  \\\n",
       "0            78.1           66.0           0.01             1704   \n",
       "1            55.0           48.9           0.15              827   \n",
       "2            39.9           34.0           0.09              526   \n",
       "3            44.1           33.1           0.47              521   \n",
       "4            42.1           26.1           0.00             1416   \n",
       "\n",
       "   Manhattan Bridge  Williamsburg Bridge  Queensboro Bridge  \n",
       "0              3126                 4115               2552  \n",
       "1              1646                 2565               1884  \n",
       "2              1232                 1695               1306  \n",
       "3              1067                 1440               1307  \n",
       "4              2617                 3081               2357  "
      ]
     },
     "execution_count": 12,
     "metadata": {},
     "output_type": "execute_result"
    }
   ],
   "source": [
    "X.head()"
   ]
  },
  {
   "cell_type": "code",
   "execution_count": 13,
   "id": "8d69edf2",
   "metadata": {},
   "outputs": [
    {
     "data": {
      "text/plain": [
       "0    11497\n",
       "1     6922\n",
       "2     4759\n",
       "3     4335\n",
       "4     9471\n",
       "Name: Total, dtype: int64"
      ]
     },
     "execution_count": 13,
     "metadata": {},
     "output_type": "execute_result"
    }
   ],
   "source": [
    "Y.head()"
   ]
  },
  {
   "cell_type": "markdown",
   "id": "0cd8f822",
   "metadata": {},
   "source": [
    "<b> Spliting the data into train and test </b>"
   ]
  },
  {
   "cell_type": "code",
   "execution_count": 14,
   "id": "0cb6175f",
   "metadata": {},
   "outputs": [],
   "source": [
    "from sklearn.model_selection import train_test_split\n",
    "X_train, X_test, y_train, y_test = train_test_split(X, Y, test_size = 0.2, random_state = 0)"
   ]
  },
  {
   "cell_type": "code",
   "execution_count": 15,
   "id": "d8de84c4",
   "metadata": {},
   "outputs": [
    {
     "name": "stdout",
     "output_type": "stream",
     "text": [
      "X_train (168, 7)\n",
      "y_train (168,)\n",
      "X_test (42, 7)\n",
      "y_test (42,)\n"
     ]
    }
   ],
   "source": [
    "print(\"X_train\", X_train.shape)\n",
    "print(\"y_train\", y_train.shape)\n",
    "print(\"X_test\", X_test.shape)\n",
    "print(\"y_test\", y_test.shape)"
   ]
  },
  {
   "cell_type": "code",
   "execution_count": 16,
   "id": "46fccdea",
   "metadata": {},
   "outputs": [
    {
     "data": {
      "text/html": [
       "<div>\n",
       "<style scoped>\n",
       "    .dataframe tbody tr th:only-of-type {\n",
       "        vertical-align: middle;\n",
       "    }\n",
       "\n",
       "    .dataframe tbody tr th {\n",
       "        vertical-align: top;\n",
       "    }\n",
       "\n",
       "    .dataframe thead th {\n",
       "        text-align: right;\n",
       "    }\n",
       "</style>\n",
       "<table border=\"1\" class=\"dataframe\">\n",
       "  <thead>\n",
       "    <tr style=\"text-align: right;\">\n",
       "      <th></th>\n",
       "      <th>0</th>\n",
       "      <th>1</th>\n",
       "      <th>2</th>\n",
       "      <th>3</th>\n",
       "      <th>4</th>\n",
       "      <th>5</th>\n",
       "      <th>6</th>\n",
       "    </tr>\n",
       "  </thead>\n",
       "  <tbody>\n",
       "    <tr>\n",
       "      <th>0</th>\n",
       "      <td>-0.377462</td>\n",
       "      <td>-0.723811</td>\n",
       "      <td>-0.495393</td>\n",
       "      <td>0.532369</td>\n",
       "      <td>0.742444</td>\n",
       "      <td>0.584688</td>\n",
       "      <td>0.729635</td>\n",
       "    </tr>\n",
       "    <tr>\n",
       "      <th>1</th>\n",
       "      <td>0.885437</td>\n",
       "      <td>0.342858</td>\n",
       "      <td>-0.495393</td>\n",
       "      <td>1.134141</td>\n",
       "      <td>1.356073</td>\n",
       "      <td>1.370364</td>\n",
       "      <td>1.290559</td>\n",
       "    </tr>\n",
       "    <tr>\n",
       "      <th>2</th>\n",
       "      <td>-1.532881</td>\n",
       "      <td>-1.441964</td>\n",
       "      <td>4.058304</td>\n",
       "      <td>-1.809092</td>\n",
       "      <td>-1.770129</td>\n",
       "      <td>-1.916188</td>\n",
       "      <td>-1.876269</td>\n",
       "    </tr>\n",
       "    <tr>\n",
       "      <th>3</th>\n",
       "      <td>-1.452270</td>\n",
       "      <td>-1.769357</td>\n",
       "      <td>-0.495393</td>\n",
       "      <td>-0.431881</td>\n",
       "      <td>-0.456950</td>\n",
       "      <td>-0.589708</td>\n",
       "      <td>-0.483443</td>\n",
       "    </tr>\n",
       "    <tr>\n",
       "      <th>4</th>\n",
       "      <td>-1.631405</td>\n",
       "      <td>-0.935032</td>\n",
       "      <td>0.376591</td>\n",
       "      <td>-1.826257</td>\n",
       "      <td>-1.810767</td>\n",
       "      <td>-1.879402</td>\n",
       "      <td>-1.700134</td>\n",
       "    </tr>\n",
       "  </tbody>\n",
       "</table>\n",
       "</div>"
      ],
      "text/plain": [
       "          0         1         2         3         4         5         6\n",
       "0 -0.377462 -0.723811 -0.495393  0.532369  0.742444  0.584688  0.729635\n",
       "1  0.885437  0.342858 -0.495393  1.134141  1.356073  1.370364  1.290559\n",
       "2 -1.532881 -1.441964  4.058304 -1.809092 -1.770129 -1.916188 -1.876269\n",
       "3 -1.452270 -1.769357 -0.495393 -0.431881 -0.456950 -0.589708 -0.483443\n",
       "4 -1.631405 -0.935032  0.376591 -1.826257 -1.810767 -1.879402 -1.700134"
      ]
     },
     "execution_count": 16,
     "metadata": {},
     "output_type": "execute_result"
    }
   ],
   "source": [
    "from sklearn.preprocessing import StandardScaler\n",
    "SS = StandardScaler()\n",
    "X_train = SS.fit_transform(X_train)\n",
    "X_test = SS.transform(X_test)\n",
    "\n",
    "pd.DataFrame(X_test).head()"
   ]
  },
  {
   "cell_type": "markdown",
   "id": "7c081457",
   "metadata": {},
   "source": [
    "<b> Building Decision Tree Regression </b>"
   ]
  },
  {
   "cell_type": "code",
   "execution_count": 17,
   "id": "d35735d2",
   "metadata": {},
   "outputs": [],
   "source": [
    "from sklearn.tree import DecisionTreeRegressor"
   ]
  },
  {
   "cell_type": "code",
   "execution_count": 18,
   "id": "d2a5fe88",
   "metadata": {},
   "outputs": [],
   "source": [
    "regressor = DecisionTreeRegressor(max_depth=3, random_state=0)"
   ]
  },
  {
   "cell_type": "code",
   "execution_count": 19,
   "id": "065b991c",
   "metadata": {},
   "outputs": [
    {
     "data": {
      "text/plain": [
       "DecisionTreeRegressor(max_depth=3, random_state=0)"
      ]
     },
     "execution_count": 19,
     "metadata": {},
     "output_type": "execute_result"
    }
   ],
   "source": [
    "regressor.fit(X_train,y_train)"
   ]
  },
  {
   "cell_type": "code",
   "execution_count": 20,
   "id": "eafcfeca",
   "metadata": {},
   "outputs": [],
   "source": [
    "y_pred = regressor.predict(X_test)"
   ]
  },
  {
   "cell_type": "code",
   "execution_count": 21,
   "id": "8319c027",
   "metadata": {},
   "outputs": [
    {
     "data": {
      "text/plain": [
       "array([17976.16216216, 22791.33333333,  4522.1875    , 12655.36666667,\n",
       "        4522.1875    , 15850.27272727, 20509.63636364,  4522.1875    ,\n",
       "       12655.36666667,  9351.3125    , 15850.27272727,  9351.3125    ,\n",
       "       12655.36666667, 12655.36666667,  9351.3125    , 20509.63636364,\n",
       "       17976.16216216, 12655.36666667,  9351.3125    , 22791.33333333,\n",
       "       22791.33333333, 15850.27272727, 12655.36666667, 12655.36666667,\n",
       "        4522.1875    , 17976.16216216, 12655.36666667,  9351.3125    ,\n",
       "        4522.1875    , 12655.36666667, 15850.27272727, 17976.16216216,\n",
       "       22791.33333333,  7399.08333333, 12655.36666667, 12655.36666667,\n",
       "       20509.63636364, 15850.27272727, 17976.16216216, 15850.27272727,\n",
       "        7399.08333333, 12655.36666667])"
      ]
     },
     "execution_count": 21,
     "metadata": {},
     "output_type": "execute_result"
    }
   ],
   "source": [
    "y_pred"
   ]
  },
  {
   "cell_type": "markdown",
   "id": "a0ccd9f9",
   "metadata": {},
   "source": [
    "<b> Evaluate the Result </b>"
   ]
  },
  {
   "cell_type": "markdown",
   "id": "4652d360",
   "metadata": {},
   "source": [
    "In this part, we evaluate the Linear Regression Model. And for evaluation we will use three metrics. <br>\n",
    "\n",
    "`R Square`: R Square measures how much variability in dependent variable can be explained by the model. <br>\n",
    "\n",
    "`Mean Square Error`: MSE is calculated by the sum of square of prediction error which is real output minus predicted output and then divide by the number of data points. It gives you an absolute number on how much your predicted results deviate from the actual number. <br>\n",
    "\n",
    "`Mean Absolute Error`: Mean Absolute Error(MAE) is similar to Mean Square Error(MSE). However, instead of the sum of square of error in MSE, MAE is taking the sum of the absolute value of error."
   ]
  },
  {
   "cell_type": "code",
   "execution_count": 22,
   "id": "0d912bdf",
   "metadata": {},
   "outputs": [],
   "source": [
    "from sklearn.metrics import r2_score,mean_squared_error, mean_absolute_error"
   ]
  },
  {
   "cell_type": "code",
   "execution_count": 23,
   "id": "eb7e167c",
   "metadata": {},
   "outputs": [
    {
     "name": "stdout",
     "output_type": "stream",
     "text": [
      "r square error : 0.9898349974695154\n",
      "mean absolute error : 466.30885739635744\n",
      "mean squared error : 289712.06677076913\n"
     ]
    }
   ],
   "source": [
    "r2 = r2_score(y_pred,y_test)\n",
    "print(f'r square error : {r2}')\n",
    "mean_abs = mean_absolute_error(y_pred,y_test)\n",
    "print(f'mean absolute error : {mean_abs}')\n",
    "mean_squ = mean_squared_error(y_pred,y_test)\n",
    "print(f'mean squared error : {mean_squ}')"
   ]
  },
  {
   "cell_type": "markdown",
   "id": "9c364021",
   "metadata": {},
   "source": [
    "<b> Visulaizing the predicted result </b>"
   ]
  },
  {
   "cell_type": "code",
   "execution_count": 24,
   "id": "2914fadd",
   "metadata": {},
   "outputs": [
    {
     "name": "stdout",
     "output_type": "stream",
     "text": [
      "|--- feature_4 <= -0.08\n",
      "|   |--- feature_3 <= -1.16\n",
      "|   |   |--- feature_3 <= -1.65\n",
      "|   |   |   |--- value: [4522.19]\n",
      "|   |   |--- feature_3 >  -1.65\n",
      "|   |   |   |--- value: [7399.08]\n",
      "|   |--- feature_3 >  -1.16\n",
      "|   |   |--- feature_3 <= -0.74\n",
      "|   |   |   |--- value: [9351.31]\n",
      "|   |   |--- feature_3 >  -0.74\n",
      "|   |   |   |--- value: [12655.37]\n",
      "|--- feature_4 >  -0.08\n",
      "|   |--- feature_6 <= 0.82\n",
      "|   |   |--- feature_4 <= 0.38\n",
      "|   |   |   |--- value: [15850.27]\n",
      "|   |   |--- feature_4 >  0.38\n",
      "|   |   |   |--- value: [17976.16]\n",
      "|   |--- feature_6 >  0.82\n",
      "|   |   |--- feature_6 <= 1.18\n",
      "|   |   |   |--- value: [20509.64]\n",
      "|   |   |--- feature_6 >  1.18\n",
      "|   |   |   |--- value: [22791.33]\n",
      "\n"
     ]
    }
   ],
   "source": [
    "from sklearn import tree\n",
    "text_representation = tree.export_text(regressor)\n",
    "print(text_representation)"
   ]
  },
  {
   "cell_type": "markdown",
   "id": "d770b43f",
   "metadata": {},
   "source": [
    "<b> Making a Single Prediction </b>"
   ]
  },
  {
   "cell_type": "markdown",
   "id": "67ddbc9d",
   "metadata": {},
   "source": [
    "<font color = blue>How many  bicycles going over bridges if ..?"
   ]
  },
  {
   "cell_type": "code",
   "execution_count": 25,
   "id": "8787046e",
   "metadata": {},
   "outputs": [
    {
     "data": {
      "text/html": [
       "<div>\n",
       "<style scoped>\n",
       "    .dataframe tbody tr th:only-of-type {\n",
       "        vertical-align: middle;\n",
       "    }\n",
       "\n",
       "    .dataframe tbody tr th {\n",
       "        vertical-align: top;\n",
       "    }\n",
       "\n",
       "    .dataframe thead th {\n",
       "        text-align: right;\n",
       "    }\n",
       "</style>\n",
       "<table border=\"1\" class=\"dataframe\">\n",
       "  <thead>\n",
       "    <tr style=\"text-align: right;\">\n",
       "      <th></th>\n",
       "      <th>High Temp (°F)</th>\n",
       "      <th>Low Temp (°F)</th>\n",
       "      <th>Precipitation</th>\n",
       "      <th>Brooklyn Bridge</th>\n",
       "      <th>Manhattan Bridge</th>\n",
       "      <th>Williamsburg Bridge</th>\n",
       "      <th>Queensboro Bridge</th>\n",
       "      <th>Total</th>\n",
       "    </tr>\n",
       "  </thead>\n",
       "  <tbody>\n",
       "    <tr>\n",
       "      <th>0</th>\n",
       "      <td>67.2</td>\n",
       "      <td>44.2</td>\n",
       "      <td>0.22</td>\n",
       "      <td>600</td>\n",
       "      <td>1212</td>\n",
       "      <td>4030</td>\n",
       "      <td>2011</td>\n",
       "      <td>?</td>\n",
       "    </tr>\n",
       "  </tbody>\n",
       "</table>\n",
       "</div>"
      ],
      "text/plain": [
       "   High Temp (°F)  Low Temp (°F)  Precipitation  Brooklyn Bridge  \\\n",
       "0            67.2           44.2           0.22              600   \n",
       "\n",
       "   Manhattan Bridge  Williamsburg Bridge  Queensboro Bridge Total  \n",
       "0              1212                 4030               2011     ?  "
      ]
     },
     "execution_count": 25,
     "metadata": {},
     "output_type": "execute_result"
    }
   ],
   "source": [
    "col = ['High Temp (°F)', 'Low Temp (°F)', 'Precipitation', 'Brooklyn Bridge', 'Manhattan Bridge', 'Williamsburg Bridge', 'Queensboro Bridge', 'Total']\n",
    "\n",
    "pd.DataFrame([[67.2, 44.2, 0.22, 600, 1212, 4030, 2011, '?']], columns = col)"
   ]
  },
  {
   "cell_type": "code",
   "execution_count": 26,
   "id": "db691f4b",
   "metadata": {},
   "outputs": [
    {
     "data": {
      "text/plain": [
       "array([4522.1875])"
      ]
     },
     "execution_count": 26,
     "metadata": {},
     "output_type": "execute_result"
    }
   ],
   "source": [
    "regressor.predict(SS.transform(np.array([[67.2, 44.2, 0.22, 600, 1212, 4030, 2011]])))"
   ]
  },
  {
   "cell_type": "code",
   "execution_count": null,
   "id": "85fc2b09",
   "metadata": {},
   "outputs": [],
   "source": []
  },
  {
   "cell_type": "code",
   "execution_count": null,
   "id": "c0f15c85",
   "metadata": {},
   "outputs": [],
   "source": []
  }
 ],
 "metadata": {
  "kernelspec": {
   "display_name": "Python 3 (ipykernel)",
   "language": "python",
   "name": "python3"
  },
  "language_info": {
   "codemirror_mode": {
    "name": "ipython",
    "version": 3
   },
   "file_extension": ".py",
   "mimetype": "text/x-python",
   "name": "python",
   "nbconvert_exporter": "python",
   "pygments_lexer": "ipython3",
   "version": "3.9.12"
  }
 },
 "nbformat": 4,
 "nbformat_minor": 5
}
